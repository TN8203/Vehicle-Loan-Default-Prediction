{
 "cells": [
  {
   "cell_type": "code",
   "execution_count": 2,
   "metadata": {},
   "outputs": [],
   "source": [
    "import pandas as pd\n",
    "import seaborn as sns\n",
    "import numpy as np\n",
    "import matplotlib.pyplot as plt \n",
    "\n",
    "#model selection from sklearn import model_selection\n",
    "from sklearn.linear_model import LogisticRegression\n",
    "from sklearn.tree import DecisionTreeClassifier\n",
    "from sklearn.neighbors import KNeighborsClassifier\n",
    "#ensemble\n",
    "from sklearn.ensemble import RandomForestClassifier,BaggingClassifier,AdaBoostClassifier,GradientBoostingClassifier\n",
    "from xgboost import XGBClassifier\n",
    "#metrics\n",
    "from sklearn.metrics import precision_score, recall_score, f1_score, roc_auc_score, accuracy_score, classification_report\n",
    "\n",
    "#warnings\n",
    "import warnings\n",
    "warnings.filterwarnings(\"ignore\")"
   ]
  },
  {
   "cell_type": "code",
   "execution_count": 4,
   "metadata": {},
   "outputs": [
    {
     "data": {
      "text/html": [
       "<div>\n",
       "<style scoped>\n",
       "    .dataframe tbody tr th:only-of-type {\n",
       "        vertical-align: middle;\n",
       "    }\n",
       "\n",
       "    .dataframe tbody tr th {\n",
       "        vertical-align: top;\n",
       "    }\n",
       "\n",
       "    .dataframe thead th {\n",
       "        text-align: right;\n",
       "    }\n",
       "</style>\n",
       "<table border=\"1\" class=\"dataframe\">\n",
       "  <thead>\n",
       "    <tr style=\"text-align: right;\">\n",
       "      <th></th>\n",
       "      <th>disbursed_amount</th>\n",
       "      <th>asset_cost</th>\n",
       "      <th>ltv</th>\n",
       "      <th>Aadhar_flag</th>\n",
       "      <th>PAN_flag</th>\n",
       "      <th>VoterID_flag</th>\n",
       "      <th>Driving_flag</th>\n",
       "      <th>Passport_flag</th>\n",
       "      <th>PERFORM_CNS.SCORE</th>\n",
       "      <th>NEW.ACCTS.IN.LAST.SIX.MONTHS</th>\n",
       "      <th>...</th>\n",
       "      <th>DisbursalDate_Month_8</th>\n",
       "      <th>DisbursalDate_Month_9</th>\n",
       "      <th>DisbursalDate_Month_10</th>\n",
       "      <th>DisbursalDate_Month_11</th>\n",
       "      <th>DisbursalDate_Month_12</th>\n",
       "      <th>PERFORM_CNS.SCORE.DESCRIPTION_1</th>\n",
       "      <th>PERFORM_CNS.SCORE.DESCRIPTION_2</th>\n",
       "      <th>PERFORM_CNS.SCORE.DESCRIPTION_3</th>\n",
       "      <th>PERFORM_CNS.SCORE.DESCRIPTION_4</th>\n",
       "      <th>PERFORM_CNS.SCORE.DESCRIPTION_5</th>\n",
       "    </tr>\n",
       "  </thead>\n",
       "  <tbody>\n",
       "    <tr>\n",
       "      <th>0</th>\n",
       "      <td>10.831292</td>\n",
       "      <td>10.975088</td>\n",
       "      <td>89.55</td>\n",
       "      <td>1</td>\n",
       "      <td>0</td>\n",
       "      <td>0</td>\n",
       "      <td>0</td>\n",
       "      <td>0</td>\n",
       "      <td>0</td>\n",
       "      <td>0.0</td>\n",
       "      <td>...</td>\n",
       "      <td>False</td>\n",
       "      <td>False</td>\n",
       "      <td>False</td>\n",
       "      <td>False</td>\n",
       "      <td>False</td>\n",
       "      <td>False</td>\n",
       "      <td>False</td>\n",
       "      <td>False</td>\n",
       "      <td>False</td>\n",
       "      <td>False</td>\n",
       "    </tr>\n",
       "    <tr>\n",
       "      <th>1</th>\n",
       "      <td>10.761004</td>\n",
       "      <td>11.090584</td>\n",
       "      <td>73.23</td>\n",
       "      <td>1</td>\n",
       "      <td>0</td>\n",
       "      <td>0</td>\n",
       "      <td>0</td>\n",
       "      <td>0</td>\n",
       "      <td>598</td>\n",
       "      <td>0.0</td>\n",
       "      <td>...</td>\n",
       "      <td>False</td>\n",
       "      <td>True</td>\n",
       "      <td>False</td>\n",
       "      <td>False</td>\n",
       "      <td>False</td>\n",
       "      <td>False</td>\n",
       "      <td>False</td>\n",
       "      <td>True</td>\n",
       "      <td>False</td>\n",
       "      <td>False</td>\n",
       "    </tr>\n",
       "    <tr>\n",
       "      <th>2</th>\n",
       "      <td>10.883298</td>\n",
       "      <td>11.024530</td>\n",
       "      <td>89.63</td>\n",
       "      <td>1</td>\n",
       "      <td>0</td>\n",
       "      <td>0</td>\n",
       "      <td>0</td>\n",
       "      <td>0</td>\n",
       "      <td>0</td>\n",
       "      <td>0.0</td>\n",
       "      <td>...</td>\n",
       "      <td>False</td>\n",
       "      <td>False</td>\n",
       "      <td>False</td>\n",
       "      <td>False</td>\n",
       "      <td>False</td>\n",
       "      <td>False</td>\n",
       "      <td>False</td>\n",
       "      <td>False</td>\n",
       "      <td>False</td>\n",
       "      <td>False</td>\n",
       "    </tr>\n",
       "    <tr>\n",
       "      <th>3</th>\n",
       "      <td>10.959784</td>\n",
       "      <td>11.099136</td>\n",
       "      <td>88.48</td>\n",
       "      <td>1</td>\n",
       "      <td>0</td>\n",
       "      <td>0</td>\n",
       "      <td>0</td>\n",
       "      <td>0</td>\n",
       "      <td>305</td>\n",
       "      <td>0.0</td>\n",
       "      <td>...</td>\n",
       "      <td>False</td>\n",
       "      <td>False</td>\n",
       "      <td>True</td>\n",
       "      <td>False</td>\n",
       "      <td>False</td>\n",
       "      <td>True</td>\n",
       "      <td>False</td>\n",
       "      <td>False</td>\n",
       "      <td>False</td>\n",
       "      <td>False</td>\n",
       "    </tr>\n",
       "    <tr>\n",
       "      <th>4</th>\n",
       "      <td>10.866261</td>\n",
       "      <td>11.007104</td>\n",
       "      <td>88.39</td>\n",
       "      <td>1</td>\n",
       "      <td>0</td>\n",
       "      <td>0</td>\n",
       "      <td>0</td>\n",
       "      <td>0</td>\n",
       "      <td>0</td>\n",
       "      <td>0.0</td>\n",
       "      <td>...</td>\n",
       "      <td>False</td>\n",
       "      <td>True</td>\n",
       "      <td>False</td>\n",
       "      <td>False</td>\n",
       "      <td>False</td>\n",
       "      <td>False</td>\n",
       "      <td>False</td>\n",
       "      <td>False</td>\n",
       "      <td>False</td>\n",
       "      <td>False</td>\n",
       "    </tr>\n",
       "  </tbody>\n",
       "</table>\n",
       "<p>5 rows × 153 columns</p>\n",
       "</div>"
      ],
      "text/plain": [
       "   disbursed_amount  asset_cost    ltv  Aadhar_flag  PAN_flag  VoterID_flag  \\\n",
       "0         10.831292   10.975088  89.55            1         0             0   \n",
       "1         10.761004   11.090584  73.23            1         0             0   \n",
       "2         10.883298   11.024530  89.63            1         0             0   \n",
       "3         10.959784   11.099136  88.48            1         0             0   \n",
       "4         10.866261   11.007104  88.39            1         0             0   \n",
       "\n",
       "   Driving_flag  Passport_flag  PERFORM_CNS.SCORE  \\\n",
       "0             0              0                  0   \n",
       "1             0              0                598   \n",
       "2             0              0                  0   \n",
       "3             0              0                305   \n",
       "4             0              0                  0   \n",
       "\n",
       "   NEW.ACCTS.IN.LAST.SIX.MONTHS  ...  DisbursalDate_Month_8  \\\n",
       "0                           0.0  ...                  False   \n",
       "1                           0.0  ...                  False   \n",
       "2                           0.0  ...                  False   \n",
       "3                           0.0  ...                  False   \n",
       "4                           0.0  ...                  False   \n",
       "\n",
       "   DisbursalDate_Month_9  DisbursalDate_Month_10  DisbursalDate_Month_11  \\\n",
       "0                  False                   False                   False   \n",
       "1                   True                   False                   False   \n",
       "2                  False                   False                   False   \n",
       "3                  False                    True                   False   \n",
       "4                   True                   False                   False   \n",
       "\n",
       "   DisbursalDate_Month_12  PERFORM_CNS.SCORE.DESCRIPTION_1  \\\n",
       "0                   False                            False   \n",
       "1                   False                            False   \n",
       "2                   False                            False   \n",
       "3                   False                             True   \n",
       "4                   False                            False   \n",
       "\n",
       "   PERFORM_CNS.SCORE.DESCRIPTION_2  PERFORM_CNS.SCORE.DESCRIPTION_3  \\\n",
       "0                            False                            False   \n",
       "1                            False                             True   \n",
       "2                            False                            False   \n",
       "3                            False                            False   \n",
       "4                            False                            False   \n",
       "\n",
       "   PERFORM_CNS.SCORE.DESCRIPTION_4  PERFORM_CNS.SCORE.DESCRIPTION_5  \n",
       "0                            False                            False  \n",
       "1                            False                            False  \n",
       "2                            False                            False  \n",
       "3                            False                            False  \n",
       "4                            False                            False  \n",
       "\n",
       "[5 rows x 153 columns]"
      ]
     },
     "execution_count": 4,
     "metadata": {},
     "output_type": "execute_result"
    }
   ],
   "source": [
    "df = pd.read_csv(\"data_fe.csv\")\n",
    "df.head()"
   ]
  },
  {
   "cell_type": "code",
   "execution_count": 5,
   "metadata": {},
   "outputs": [],
   "source": [
    "X = df.drop('loan_default',axis=1)\n",
    "y = df['loan_default']\n",
    "model_scores={}"
   ]
  },
  {
   "cell_type": "code",
   "execution_count": 6,
   "metadata": {},
   "outputs": [],
   "source": [
    "from sklearn.model_selection import train_test_split, KFold, cross_val_score\n",
    "X_train, X_test, y_train, y_test = train_test_split(X, y, test_size=0.3, random_state=2)"
   ]
  },
  {
   "cell_type": "code",
   "execution_count": 7,
   "metadata": {},
   "outputs": [
    {
     "data": {
      "text/plain": [
       "(163207,)"
      ]
     },
     "execution_count": 7,
     "metadata": {},
     "output_type": "execute_result"
    }
   ],
   "source": [
    "y_train.shape"
   ]
  },
  {
   "cell_type": "code",
   "execution_count": 8,
   "metadata": {},
   "outputs": [
    {
     "data": {
      "text/plain": [
       "((69947, 152), (69947,))"
      ]
     },
     "execution_count": 8,
     "metadata": {},
     "output_type": "execute_result"
    }
   ],
   "source": [
    "X_test.shape,y_test.shape"
   ]
  },
  {
   "cell_type": "code",
   "execution_count": 9,
   "metadata": {},
   "outputs": [],
   "source": [
    "#dict to store various model results for comparison\n",
    "results = {}"
   ]
  },
  {
   "cell_type": "code",
   "execution_count": 10,
   "metadata": {},
   "outputs": [],
   "source": [
    "#model result is a function for model building and calculating scores\n",
    "def modelresult(model_name,i):\n",
    "    print(i,\"\\n\")\n",
    "    classifier = i\n",
    "    classifier.fit(X_train, y_train)\n",
    "    y_predt=classifier.predict(X_train)\n",
    "    y_pred=classifier.predict(X_test)\n",
    "    y_pred_prob=classifier.predict_proba(X_test)[:,1]\n",
    "    results[model_name] = {'Accuracy' : accuracy_score(y_test,y_pred), 'roc_auc_score' : roc_auc_score(y_test,y_pred_prob)}\n",
    "    print(\"\\n Accuracy for the Train:\",accuracy_score(y_train,y_predt))\n",
    "    print(\"\\n Accuracy for the Test\",accuracy_score(y_test,y_pred),\"\\n\")\n",
    "    print(\"\\n ROC AUC score\",roc_auc_score(y_test,y_pred_prob),\"\\n\")\n",
    "    from sklearn.metrics import classification_report\n",
    "    print(classification_report(y_test,y_pred))"
   ]
  },
  {
   "cell_type": "markdown",
   "metadata": {},
   "source": [
    "Logistic Regression"
   ]
  },
  {
   "cell_type": "code",
   "execution_count": 11,
   "metadata": {},
   "outputs": [
    {
     "name": "stdout",
     "output_type": "stream",
     "text": [
      "LogisticRegression(random_state=1) \n",
      "\n",
      "\n",
      " Accuracy for the Train: 0.7828463239934562\n",
      "\n",
      " Accuracy for the Test 0.783050023589289 \n",
      "\n",
      "\n",
      " ROC AUC score 0.6266518591325527 \n",
      "\n",
      "              precision    recall  f1-score   support\n",
      "\n",
      "           0       0.78      1.00      0.88     54776\n",
      "           1       0.46      0.00      0.00     15171\n",
      "\n",
      "    accuracy                           0.78     69947\n",
      "   macro avg       0.62      0.50      0.44     69947\n",
      "weighted avg       0.71      0.78      0.69     69947\n",
      "\n"
     ]
    }
   ],
   "source": [
    "lr = LogisticRegression(random_state=1)\n",
    "modelresult(\"Linear Reg\",lr)"
   ]
  },
  {
   "cell_type": "code",
   "execution_count": 13,
   "metadata": {},
   "outputs": [
    {
     "data": {
      "text/html": [
       "<div>\n",
       "<style scoped>\n",
       "    .dataframe tbody tr th:only-of-type {\n",
       "        vertical-align: middle;\n",
       "    }\n",
       "\n",
       "    .dataframe tbody tr th {\n",
       "        vertical-align: top;\n",
       "    }\n",
       "\n",
       "    .dataframe thead th {\n",
       "        text-align: right;\n",
       "    }\n",
       "</style>\n",
       "<table border=\"1\" class=\"dataframe\">\n",
       "  <thead>\n",
       "    <tr style=\"text-align: right;\">\n",
       "      <th></th>\n",
       "      <th>Linear Reg</th>\n",
       "    </tr>\n",
       "  </thead>\n",
       "  <tbody>\n",
       "    <tr>\n",
       "      <th>Accuracy</th>\n",
       "      <td>0.783050</td>\n",
       "    </tr>\n",
       "    <tr>\n",
       "      <th>roc_auc_score</th>\n",
       "      <td>0.626652</td>\n",
       "    </tr>\n",
       "  </tbody>\n",
       "</table>\n",
       "</div>"
      ],
      "text/plain": [
       "               Linear Reg\n",
       "Accuracy         0.783050\n",
       "roc_auc_score    0.626652"
      ]
     },
     "execution_count": 13,
     "metadata": {},
     "output_type": "execute_result"
    }
   ],
   "source": [
    "pd.DataFrame(results)"
   ]
  },
  {
   "cell_type": "markdown",
   "metadata": {},
   "source": [
    "Logistic + WOE"
   ]
  },
  {
   "cell_type": "code",
   "execution_count": 15,
   "metadata": {},
   "outputs": [],
   "source": [
    "def calculate_woe(df, feature, target):\n",
    "    df = df[[feature, target]].copy()\n",
    "    df['bucket'], bins = pd.qcut(df[feature], q=10, retbins=True, duplicates='drop')\n",
    "    grouped = df.groupby('bucket')[target].agg(['count', 'sum'])\n",
    "    grouped['non_events'] = grouped['count'] - grouped['sum']\n",
    "    grouped['event_rate'] = grouped['sum'] / grouped['sum'].sum()\n",
    "    grouped['non_event_rate'] = grouped['non_events'] / grouped['non_events'].sum()\n",
    "    grouped['woe'] = np.log(grouped['event_rate'] / grouped['non_event_rate'])\n",
    "    woe = grouped['woe'].to_dict()\n",
    "    return woe\n",
    "\n",
    "def replace_with_woe(df, feature, woe):\n",
    "    df[feature + '_woe'] = df[feature].map(woe)\n",
    "    return df\n",
    "\n",
    "woe_dict = {}\n",
    "for feature in X.columns:\n",
    "    woe_dict[feature] = calculate_woe(df, feature, 'loan_default')\n",
    "    df = replace_with_woe(df, feature, woe_dict[feature])\n",
    "\n",
    "X_woe = df.drop(['loan_default'], axis=1)\n",
    "y_woe = df['loan_default']\n"
   ]
  },
  {
   "cell_type": "code",
   "execution_count": 16,
   "metadata": {},
   "outputs": [
    {
     "name": "stdout",
     "output_type": "stream",
     "text": [
      "Accuracy on Train: 0.7829504861923815\n",
      "Accuracy on Test: 0.7829499478176334\n",
      "ROC AUC Score: 0.633058394754499\n",
      "              precision    recall  f1-score   support\n",
      "\n",
      "           0       0.78      1.00      0.88     54776\n",
      "           1       0.44      0.00      0.01     15171\n",
      "\n",
      "    accuracy                           0.78     69947\n",
      "   macro avg       0.61      0.50      0.44     69947\n",
      "weighted avg       0.71      0.78      0.69     69947\n",
      "\n"
     ]
    }
   ],
   "source": [
    "from sklearn.impute import SimpleImputer\n",
    "\n",
    "imputer = SimpleImputer(strategy='mean')\n",
    "X_woe_imputed = imputer.fit_transform(X_woe)\n",
    "\n",
    "X_train_woe_imputed, X_test_woe_imputed, y_train_woe_imputed, y_test_woe_imputed = train_test_split(X_woe_imputed, y_woe, test_size=0.3, random_state=2)\n",
    "\n",
    "lr_woe_imputed = LogisticRegression(random_state=1)\n",
    "lr_woe_imputed.fit(X_train_woe_imputed, y_train_woe_imputed)\n",
    "\n",
    "y_pred_train_imputed = lr_woe_imputed.predict(X_train_woe_imputed)\n",
    "y_pred_test_imputed = lr_woe_imputed.predict(X_test_woe_imputed)\n",
    "y_pred_prob_test_imputed = lr_woe_imputed.predict_proba(X_test_woe_imputed)[:, 1]\n",
    "\n",
    "print(\"Accuracy on Train:\", accuracy_score(y_train_woe_imputed, y_pred_train_imputed))\n",
    "print(\"Accuracy on Test:\", accuracy_score(y_test_woe_imputed, y_pred_test_imputed))\n",
    "print(\"ROC AUC Score:\", roc_auc_score(y_test_woe_imputed, y_pred_prob_test_imputed))\n",
    "print(classification_report(y_test_woe_imputed, y_pred_test_imputed))"
   ]
  },
  {
   "cell_type": "markdown",
   "metadata": {},
   "source": [
    "Decision Tree classifier"
   ]
  },
  {
   "cell_type": "code",
   "execution_count": 17,
   "metadata": {},
   "outputs": [
    {
     "name": "stdout",
     "output_type": "stream",
     "text": [
      "DecisionTreeClassifier(criterion='entropy', random_state=1) \n",
      "\n",
      "\n",
      " Accuracy for the Train: 0.9997365309086007\n",
      "\n",
      " Accuracy for the Test 0.6739388394069795 \n",
      "\n",
      "\n",
      " ROC AUC score 0.5266690949744165 \n",
      "\n",
      "              precision    recall  f1-score   support\n",
      "\n",
      "           0       0.79      0.79      0.79     54776\n",
      "           1       0.26      0.27      0.26     15171\n",
      "\n",
      "    accuracy                           0.67     69947\n",
      "   macro avg       0.53      0.53      0.53     69947\n",
      "weighted avg       0.68      0.67      0.68     69947\n",
      "\n"
     ]
    }
   ],
   "source": [
    "dcg = DecisionTreeClassifier(criterion='entropy',random_state=1)\n",
    "modelresult(\"DT-Entropy\" ,dcg)"
   ]
  },
  {
   "cell_type": "markdown",
   "metadata": {},
   "source": [
    "Decision Tree classifier with gini"
   ]
  },
  {
   "cell_type": "code",
   "execution_count": 18,
   "metadata": {},
   "outputs": [
    {
     "name": "stdout",
     "output_type": "stream",
     "text": [
      "DecisionTreeClassifier(random_state=1) \n",
      "\n",
      "\n",
      " Accuracy for the Train: 0.9997365309086007\n",
      "\n",
      " Accuracy for the Test 0.6742104736443307 \n",
      "\n",
      "\n",
      " ROC AUC score 0.530462374878385 \n",
      "\n",
      "              precision    recall  f1-score   support\n",
      "\n",
      "           0       0.80      0.78      0.79     54776\n",
      "           1       0.26      0.28      0.27     15171\n",
      "\n",
      "    accuracy                           0.67     69947\n",
      "   macro avg       0.53      0.53      0.53     69947\n",
      "weighted avg       0.68      0.67      0.68     69947\n",
      "\n"
     ]
    }
   ],
   "source": [
    "dcg = DecisionTreeClassifier(criterion='gini',random_state=1)\n",
    "modelresult(\"DT-Gini\",dcg)"
   ]
  },
  {
   "cell_type": "markdown",
   "metadata": {},
   "source": [
    "RandomForest Classifier"
   ]
  },
  {
   "cell_type": "code",
   "execution_count": 19,
   "metadata": {},
   "outputs": [
    {
     "name": "stdout",
     "output_type": "stream",
     "text": [
      "RandomForestClassifier(random_state=1) \n",
      "\n",
      "\n",
      " Accuracy for the Train: 0.9997181493440845\n",
      "\n",
      " Accuracy for the Test 0.7772742219108754 \n",
      "\n",
      "\n",
      " ROC AUC score 0.6274546956237763 \n",
      "\n",
      "              precision    recall  f1-score   support\n",
      "\n",
      "           0       0.79      0.98      0.87     54776\n",
      "           1       0.39      0.05      0.08     15171\n",
      "\n",
      "    accuracy                           0.78     69947\n",
      "   macro avg       0.59      0.51      0.48     69947\n",
      "weighted avg       0.70      0.78      0.70     69947\n",
      "\n"
     ]
    }
   ],
   "source": [
    "rfc = RandomForestClassifier(n_estimators=100,random_state=1)\n",
    "modelresult(\"RandomForest\",rfc)"
   ]
  },
  {
   "cell_type": "markdown",
   "metadata": {},
   "source": [
    "Bagging Classifier"
   ]
  },
  {
   "cell_type": "code",
   "execution_count": 20,
   "metadata": {},
   "outputs": [
    {
     "name": "stdout",
     "output_type": "stream",
     "text": [
      "BaggingClassifier(random_state=1) \n",
      "\n",
      "\n",
      " Accuracy for the Train: 0.9753993394891151\n",
      "\n",
      " Accuracy for the Test 0.7659513631749754 \n",
      "\n",
      "\n",
      " ROC AUC score 0.5911332229505887 \n",
      "\n",
      "              precision    recall  f1-score   support\n",
      "\n",
      "           0       0.79      0.95      0.86     54776\n",
      "           1       0.34      0.09      0.14     15171\n",
      "\n",
      "    accuracy                           0.77     69947\n",
      "   macro avg       0.57      0.52      0.50     69947\n",
      "weighted avg       0.69      0.77      0.71     69947\n",
      "\n"
     ]
    }
   ],
   "source": [
    "bgc = BaggingClassifier(random_state=1)\n",
    "modelresult(\"Bagging\",bgc)  "
   ]
  },
  {
   "cell_type": "markdown",
   "metadata": {},
   "source": [
    "AdaBoost Classifier"
   ]
  },
  {
   "cell_type": "code",
   "execution_count": 21,
   "metadata": {},
   "outputs": [
    {
     "name": "stdout",
     "output_type": "stream",
     "text": [
      "AdaBoostClassifier(random_state=1) \n",
      "\n",
      "\n",
      " Accuracy for the Train: 0.7826073636547451\n",
      "\n",
      " Accuracy for the Test 0.7827783893519379 \n",
      "\n",
      "\n",
      " ROC AUC score 0.6536466632755027 \n",
      "\n",
      "              precision    recall  f1-score   support\n",
      "\n",
      "           0       0.78      1.00      0.88     54776\n",
      "           1       0.48      0.02      0.03     15171\n",
      "\n",
      "    accuracy                           0.78     69947\n",
      "   macro avg       0.63      0.51      0.45     69947\n",
      "weighted avg       0.72      0.78      0.69     69947\n",
      "\n"
     ]
    }
   ],
   "source": [
    "ada = AdaBoostClassifier(random_state=1)\n",
    "modelresult(\"Adaboost\", ada)"
   ]
  },
  {
   "cell_type": "markdown",
   "metadata": {},
   "source": [
    "XGBoost Classifier"
   ]
  },
  {
   "cell_type": "code",
   "execution_count": 22,
   "metadata": {},
   "outputs": [
    {
     "name": "stdout",
     "output_type": "stream",
     "text": [
      "XGBClassifier(base_score=None, booster=None, callbacks=None,\n",
      "              colsample_bylevel=None, colsample_bynode=None,\n",
      "              colsample_bytree=None, device=None, early_stopping_rounds=None,\n",
      "              enable_categorical=False, eval_metric=None, feature_types=None,\n",
      "              gamma=None, grow_policy=None, importance_type=None,\n",
      "              interaction_constraints=None, learning_rate=0.2, max_bin=None,\n",
      "              max_cat_threshold=None, max_cat_to_onehot=None,\n",
      "              max_delta_step=None, max_depth=3, max_leaves=None,\n",
      "              min_child_weight=None, missing=nan, monotone_constraints=None,\n",
      "              multi_strategy=None, n_estimators=100, n_jobs=-1,\n",
      "              num_parallel_tree=None, random_state=1, ...) \n",
      "\n",
      "\n",
      " Accuracy for the Train: 0.7836551128321702\n",
      "\n",
      " Accuracy for the Test 0.7838506297625345 \n",
      "\n",
      "\n",
      " ROC AUC score 0.6643697958842921 \n",
      "\n",
      "              precision    recall  f1-score   support\n",
      "\n",
      "           0       0.78      1.00      0.88     54776\n",
      "           1       0.60      0.01      0.02     15171\n",
      "\n",
      "    accuracy                           0.78     69947\n",
      "   macro avg       0.69      0.50      0.45     69947\n",
      "weighted avg       0.74      0.78      0.69     69947\n",
      "\n"
     ]
    }
   ],
   "source": [
    "xgb =  XGBClassifier(random_state=1, n_jobs=-1, learning_rate=0.2,n_estimators=100, max_depth=3)\n",
    "modelresult(\"XGboost\",xgb)"
   ]
  },
  {
   "cell_type": "code",
   "execution_count": 23,
   "metadata": {},
   "outputs": [
    {
     "data": {
      "text/html": [
       "<div>\n",
       "<style scoped>\n",
       "    .dataframe tbody tr th:only-of-type {\n",
       "        vertical-align: middle;\n",
       "    }\n",
       "\n",
       "    .dataframe tbody tr th {\n",
       "        vertical-align: top;\n",
       "    }\n",
       "\n",
       "    .dataframe thead th {\n",
       "        text-align: right;\n",
       "    }\n",
       "</style>\n",
       "<table border=\"1\" class=\"dataframe\">\n",
       "  <thead>\n",
       "    <tr style=\"text-align: right;\">\n",
       "      <th></th>\n",
       "      <th>Accuracy</th>\n",
       "      <th>roc_auc_score</th>\n",
       "    </tr>\n",
       "  </thead>\n",
       "  <tbody>\n",
       "    <tr>\n",
       "      <th>Linear Reg</th>\n",
       "      <td>0.783050</td>\n",
       "      <td>0.626652</td>\n",
       "    </tr>\n",
       "    <tr>\n",
       "      <th>DT-Entropy</th>\n",
       "      <td>0.673939</td>\n",
       "      <td>0.526669</td>\n",
       "    </tr>\n",
       "    <tr>\n",
       "      <th>DT-Gini</th>\n",
       "      <td>0.674210</td>\n",
       "      <td>0.530462</td>\n",
       "    </tr>\n",
       "    <tr>\n",
       "      <th>RandomForest</th>\n",
       "      <td>0.777274</td>\n",
       "      <td>0.627455</td>\n",
       "    </tr>\n",
       "    <tr>\n",
       "      <th>Bagging</th>\n",
       "      <td>0.765951</td>\n",
       "      <td>0.591133</td>\n",
       "    </tr>\n",
       "    <tr>\n",
       "      <th>Adaboost</th>\n",
       "      <td>0.782778</td>\n",
       "      <td>0.653647</td>\n",
       "    </tr>\n",
       "    <tr>\n",
       "      <th>XGboost</th>\n",
       "      <td>0.783851</td>\n",
       "      <td>0.664370</td>\n",
       "    </tr>\n",
       "  </tbody>\n",
       "</table>\n",
       "</div>"
      ],
      "text/plain": [
       "              Accuracy  roc_auc_score\n",
       "Linear Reg    0.783050       0.626652\n",
       "DT-Entropy    0.673939       0.526669\n",
       "DT-Gini       0.674210       0.530462\n",
       "RandomForest  0.777274       0.627455\n",
       "Bagging       0.765951       0.591133\n",
       "Adaboost      0.782778       0.653647\n",
       "XGboost       0.783851       0.664370"
      ]
     },
     "execution_count": 23,
     "metadata": {},
     "output_type": "execute_result"
    }
   ],
   "source": [
    "pd.DataFrame(results).T"
   ]
  },
  {
   "cell_type": "markdown",
   "metadata": {},
   "source": [
    "We can observe that Xgboost classifier has highest accuracy score of 78.3% and roc_auc_score of 66% of all models built"
   ]
  }
 ],
 "metadata": {
  "kernelspec": {
   "display_name": "venv",
   "language": "python",
   "name": "python3"
  },
  "language_info": {
   "codemirror_mode": {
    "name": "ipython",
    "version": 3
   },
   "file_extension": ".py",
   "mimetype": "text/x-python",
   "name": "python",
   "nbconvert_exporter": "python",
   "pygments_lexer": "ipython3",
   "version": "3.9.12"
  }
 },
 "nbformat": 4,
 "nbformat_minor": 2
}
